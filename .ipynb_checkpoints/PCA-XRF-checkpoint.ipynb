{
 "cells": [
  {
   "cell_type": "code",
   "execution_count": 1,
   "metadata": {},
   "outputs": [],
   "source": [
    "import csv\n",
    "import numpy as np\n",
    "import pandas as pd"
   ]
  },
  {
   "cell_type": "code",
   "execution_count": 66,
   "metadata": {},
   "outputs": [
    {
     "name": "stdout",
     "output_type": "stream",
     "text": [
      "<class 'pandas.core.frame.DataFrame'>\n",
      "RangeIndex: 34 entries, 0 to 33\n",
      "Data columns (total 7 columns):\n",
      "Ctchmnt    34 non-null object\n",
      "Al         34 non-null float64\n",
      "Si         34 non-null float64\n",
      "K          34 non-null float64\n",
      "Ca         34 non-null float64\n",
      "Ti         34 non-null float64\n",
      "Fe         34 non-null float64\n",
      "dtypes: float64(6), object(1)\n",
      "memory usage: 1.9+ KB\n",
      "   Ctchmnt   Al      Si    K        Ca    Ti     Fe\n",
      "0       85  11.76  58.27   6.98   7.79  1.95  13.25\n",
      "1       85  14.10  62.66   4.51  12.76  0.48   5.49\n",
      "2       85   7.79  51.19   8.76  18.12  0.77  13.36\n",
      "3       85   9.34  65.76   5.32   9.80  0.53   9.25\n",
      "4       85   9.14  60.16   2.00  15.96  0.28  12.47\n",
      "5       85   9.73  65.89   5.81   9.25  0.43   8.88\n",
      "6       85  16.28  57.36   4.14  14.37  0.78   7.07\n",
      "7       85   8.70  75.13   1.73   7.39  0.38   6.67\n",
      "8       N2   4.85  80.47   0.98   6.21  0.37   7.14\n",
      "9       N2  10.21  65.82   4.31   8.30  0.42  10.93\n",
      "10      N2   8.91  37.66  18.33  10.22  1.27  23.61\n",
      "11      N2  17.00  62.81   2.90  13.25  0.23   3.81\n",
      "12      N2  10.80  51.04   4.70  15.71  0.98  16.77\n",
      "13      N2  16.45  61.50   2.72  11.07  0.30   7.96\n",
      "14     17b  17.06  52.95   2.30  20.61  1.59   5.49\n",
      "15     17b  11.96  35.56   2.79  10.51  2.20  36.98\n",
      "16     17b   7.55  52.51   1.30  12.13  0.66  25.84\n",
      "17     17b  12.24  60.22   1.43  14.48  0.78  10.85\n",
      "18     17b   9.77  65.73   1.85  10.26  0.80  11.59\n",
      "19     17b  13.56  57.85   7.45  10.05  0.63  10.46\n",
      "20       R   8.79  66.69   2.29  14.16  0.29   7.77\n",
      "21       R  10.58  65.43   2.86   9.18  0.61  11.33\n",
      "22       R  14.43  52.84   5.32  11.77  1.17  14.47\n",
      "23       R   7.03  76.09   5.65   3.75  0.24   7.23\n",
      "24       R  14.46  56.58   2.40  16.21  0.20  10.15\n",
      "25       R  10.78  61.19   9.67   9.41  0.35   8.60\n",
      "26       R  12.37  74.04   1.52   4.27  0.18   7.61\n",
      "27       R  11.59  52.49   1.64  24.27  0.34   9.67\n",
      "28     906  11.25  57.32   3.82   8.64  0.43  18.53\n",
      "29     906   9.48  61.68   4.74   9.45  0.77  13.88\n",
      "30     906   8.23  81.16   1.15   6.19  0.13   3.14\n",
      "31     906  15.70  56.09   2.19  16.28  0.55   9.19\n",
      "32     906   3.88  81.74   1.44   3.39  0.63   8.92\n",
      "33     906  16.23  53.60   1.38  15.54  2.76  10.49\n"
     ]
    }
   ],
   "source": [
    "#reading the csv data as a data frame:\n",
    "data_frame = pd.read_csv('XRF_soil.csv')\n",
    "data_frame.info()\n",
    "print(data_frame)"
   ]
  },
  {
   "cell_type": "code",
   "execution_count": 79,
   "metadata": {},
   "outputs": [
    {
     "name": "stdout",
     "output_type": "stream",
     "text": [
      "[[0.598 0.492 0.346 0.211 0.692 0.299]\n",
      " [0.775 0.587 0.203 0.449 0.133 0.069]\n",
      " [0.297 0.338 0.448 0.705 0.243 0.302]\n",
      " [0.414 0.654 0.25  0.307 0.152 0.181]\n",
      " [0.399 0.533 0.059 0.602 0.057 0.276]\n",
      " [0.444 0.657 0.278 0.281 0.114 0.17 ]\n",
      " [0.941 0.472 0.182 0.526 0.247 0.116]]\n"
     ]
    },
    {
     "name": "stderr",
     "output_type": "stream",
     "text": [
      "C:\\Users\\gymajv\\AppData\\Local\\Continuum\\anaconda3\\lib\\site-packages\\sklearn\\utils\\validation.py:475: DataConversionWarning: Data with input dtype object was converted to float64 by MinMaxScaler.\n",
      "  warnings.warn(msg, DataConversionWarning)\n"
     ]
    }
   ],
   "source": [
    "# Standardize the Data\n",
    "from sklearn.preprocessing import Normalizer\n",
    "array = data_frame.values\n",
    "# separate array into input and output components\n",
    "X = array[:,1:7]\n",
    "Y = array[:,0]\n",
    "scaler = MinMaxScaler(feature_range=(0, 1))\n",
    "rescaledX = scaler.fit_transform(X)\n",
    "# summarize transformed data\n",
    "np.set_printoptions(precision=3)\n",
    "print(rescaledX[0:7,:])"
   ]
  },
  {
   "cell_type": "code",
   "execution_count": null,
   "metadata": {},
   "outputs": [],
   "source": []
  },
  {
   "cell_type": "code",
   "execution_count": 84,
   "metadata": {},
   "outputs": [],
   "source": [
    "#projection to 2D\n",
    "from sklearn.decomposition import PCA as sklearnPCA\n",
    "sklearn_pca = sklearnPCA(n_components=2)\n",
    "Y_sklearn = sklearn_pca.fit_transform(rescaledX)"
   ]
  },
  {
   "cell_type": "code",
   "execution_count": 91,
   "metadata": {},
   "outputs": [
    {
     "data": {
      "text/plain": [
       "<matplotlib.legend.Legend at 0x2905713be10>"
      ]
     },
     "execution_count": 91,
     "metadata": {},
     "output_type": "execute_result"
    },
    {
     "data": {
      "image/png": "[encoded data removed]",
      "text/plain": [
       "<Figure size 432x288 with 1 Axes>"
      ]
     },
     "metadata": {},
     "output_type": "display_data"
    }
   ],
   "source": [
    "#Visualize 2D projection\n",
    "import matplotlib.pyplot as plt\n",
    "\n",
    "plt.plot(Y_sklearn[0:8,0],Y_sklearn[0:8,1], '^', markersize=7, color='blue', alpha=0.5, label='85')\n",
    "plt.plot(Y_sklearn[8:14,0], Y_sklearn[8:14,1], '^', markersize=7, color='red', alpha=0.5, label='N2')\n",
    "plt.plot(Y_sklearn[14:20,0], Y_sklearn[14:20,1], '^', markersize=7, color='green', alpha=0.5, label='17b')\n",
    "plt.plot(Y_sklearn[20:28,0], Y_sklearn[20:28,1], '^', markersize=7, color='orange', alpha=0.5, label='R')\n",
    "plt.plot(Y_sklearn[28:34,0], Y_sklearn[28:34,1], '^', markersize=7, color='black', alpha=0.5, label='906')\n",
    "\n",
    "plt.xlabel('PC1')\n",
    "plt.ylabel('PC2')\n",
    "plt.xlim([-4,4])\n",
    "plt.ylim([-4,4])\n",
    "plt.legend()"
   ]
  },
  {
   "cell_type": "code",
   "execution_count": 93,
   "metadata": {},
   "outputs": [
    {
     "ename": "AttributeError",
     "evalue": "'numpy.ndarray' object has no attribute 'explained_variance_ratio_'",
     "output_type": "error",
     "traceback": [
      "\u001b[1;31m---------------------------------------------------------------------------\u001b[0m",
      "\u001b[1;31mAttributeError\u001b[0m                            Traceback (most recent call last)",
      "\u001b[1;32m<ipython-input-93-3943bf29908c>\u001b[0m in \u001b[0;36m<module>\u001b[1;34m()\u001b[0m\n\u001b[0;32m      1\u001b[0m \u001b[1;31m#Explained variance should be above 85%\u001b[0m\u001b[1;33m\u001b[0m\u001b[1;33m\u001b[0m\u001b[0m\n\u001b[1;32m----> 2\u001b[1;33m \u001b[0mY_sklearn\u001b[0m\u001b[1;33m.\u001b[0m\u001b[0mexplained_variance_ratio_\u001b[0m\u001b[1;33m\u001b[0m\u001b[0m\n\u001b[0m",
      "\u001b[1;31mAttributeError\u001b[0m: 'numpy.ndarray' object has no attribute 'explained_variance_ratio_'"
     ]
    }
   ],
   "source": [
    "#Explained variance should be above 85%\n",
    "Y_sklearn.explained_variance_ratio_"
   ]
  },
  {
   "cell_type": "code",
   "execution_count": 36,
   "metadata": {},
   "outputs": [
    {
     "data": {
      "text/plain": [
       "array([0.67881337, 0.26418316])"
      ]
     },
     "execution_count": 36,
     "metadata": {},
     "output_type": "execute_result"
    }
   ],
   "source": []
  },
  {
   "cell_type": "code",
   "execution_count": null,
   "metadata": {},
   "outputs": [],
   "source": []
  }
 ],
 "metadata": {
  "kernelspec": {
   "display_name": "Python 3",
   "language": "python",
   "name": "python3"
  },
  "language_info": {
   "codemirror_mode": {
    "name": "ipython",
    "version": 3
   },
   "file_extension": ".py",
   "mimetype": "text/x-python",
   "name": "python",
   "nbconvert_exporter": "python",
   "pygments_lexer": "ipython3",
   "version": "3.6.5"
  }
 },
 "nbformat": 4,
 "nbformat_minor": 2
}
